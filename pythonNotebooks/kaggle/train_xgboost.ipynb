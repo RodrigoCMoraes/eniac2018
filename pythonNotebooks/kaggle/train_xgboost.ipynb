{
  "cells": [
    {
      "metadata": {
        "id": "gud4hCBfdrOK",
        "colab_type": "code",
        "colab": {
          "autoexec": {
            "startup": false,
            "wait_interval": 0
          },
          "base_uri": "https://localhost:8080/",
          "height": 356
        },
        "cellView": "form",
        "outputId": "6f41b05b-4814-4e45-acfd-c130dca9179b",
        "executionInfo": {
          "status": "ok",
          "timestamp": 1526911080051,
          "user_tz": 240,
          "elapsed": 12191,
          "user": {
            "displayName": "Rodrigo Moraes",
            "photoUrl": "//lh6.googleusercontent.com/-BxZy5cw-fLQ/AAAAAAAAAAI/AAAAAAAAn3Y/AMWNrZaYhII/s50-c-k-no/photo.jpg",
            "userId": "108176296598731302480"
          }
        },
        "trusted": true,
        "_uuid": "38d372fec63641ab5e93997b6f10906678a7b730",
        "collapsed": true
      },
      "cell_type": "code",
      "source": "import tensorflow as tf\ndevice_name = tf.test.gpu_device_name()\nprint(f'Found GPU at: {device_name}')",
      "execution_count": null,
      "outputs": []
    },
    {
      "metadata": {
        "id": "xa_CyXfLPl_m",
        "colab_type": "code",
        "colab": {
          "autoexec": {
            "startup": false,
            "wait_interval": 0
          },
          "base_uri": "https://localhost:8080/",
          "height": 35
        },
        "outputId": "7780988d-70a9-40dd-9769-a0a9c928cff7",
        "executionInfo": {
          "status": "ok",
          "timestamp": 1526911081259,
          "user_tz": 240,
          "elapsed": 1151,
          "user": {
            "displayName": "Rodrigo Moraes",
            "photoUrl": "//lh6.googleusercontent.com/-BxZy5cw-fLQ/AAAAAAAAAAI/AAAAAAAAn3Y/AMWNrZaYhII/s50-c-k-no/photo.jpg",
            "userId": "108176296598731302480"
          }
        },
        "trusted": true,
        "_uuid": "a6b90bf1f4b1876ed4a2cca5fd6eb333bfb631b3",
        "collapsed": true
      },
      "cell_type": "code",
      "source": "import pandas as pd\nimport numpy as np\nfrom xgboost import XGBClassifier\nfrom sklearn.preprocessing import normalize\nfrom sklearn.model_selection import StratifiedKFold, KFold\nfrom sklearn.model_selection import GridSearchCV, RandomizedSearchCV \nfrom sklearn.model_selection import train_test_split, StratifiedShuffleSplit\nfrom sklearn.externals import joblib\nfrom sklearn.metrics import fbeta_score\nfrom sklearn.externals import joblib\nfrom keras.models import load_model, Model\nfrom keras.models import model_from_json\nfrom  keras import backend as K\nfrom sklearn.metrics import confusion_matrix\nimport seaborn as sns\nfrom matplotlib import pyplot as plt\nimport cv2",
      "execution_count": null,
      "outputs": []
    },
    {
      "metadata": {
        "id": "XoOyw_bfd3RB",
        "colab_type": "code",
        "colab": {
          "autoexec": {
            "startup": false,
            "wait_interval": 0
          },
          "base_uri": "https://localhost:8080/",
          "height": 236
        },
        "outputId": "a750b56b-2dee-440f-8611-006544db65e6",
        "executionInfo": {
          "status": "ok",
          "timestamp": 1526911116088,
          "user_tz": 240,
          "elapsed": 1044,
          "user": {
            "displayName": "Rodrigo Moraes",
            "photoUrl": "//lh6.googleusercontent.com/-BxZy5cw-fLQ/AAAAAAAAAAI/AAAAAAAAn3Y/AMWNrZaYhII/s50-c-k-no/photo.jpg",
            "userId": "108176296598731302480"
          }
        },
        "trusted": true,
        "_uuid": "30ecade184109eda0c79cd11cd417f309f1813cd",
        "collapsed": true
      },
      "cell_type": "code",
      "source": "df = pd.read_csv('../input/train.csv')\ndf.drop(df.columns[0], axis=1, inplace=True)\ndf.head()",
      "execution_count": null,
      "outputs": []
    },
    {
      "metadata": {
        "id": "BGdMhRZ3Rwz-",
        "colab_type": "code",
        "colab": {
          "autoexec": {
            "startup": false,
            "wait_interval": 0
          }
        },
        "trusted": true,
        "collapsed": true,
        "_uuid": "14f09eaec862507c547d1492f742731ae14c51aa"
      },
      "cell_type": "code",
      "source": "x_train, y_train = df.loc[:, 'in0':'in62'], df.loc[:, 'out63':'out69']",
      "execution_count": null,
      "outputs": []
    },
    {
      "metadata": {
        "id": "9wbb9JT5S86P",
        "colab_type": "code",
        "colab": {
          "autoexec": {
            "startup": false,
            "wait_interval": 0
          },
          "base_uri": "https://localhost:8080/",
          "height": 236
        },
        "outputId": "45568759-f2b6-4a6a-bebd-0461559db3c0",
        "executionInfo": {
          "status": "ok",
          "timestamp": 1526911120938,
          "user_tz": 240,
          "elapsed": 763,
          "user": {
            "displayName": "Rodrigo Moraes",
            "photoUrl": "//lh6.googleusercontent.com/-BxZy5cw-fLQ/AAAAAAAAAAI/AAAAAAAAn3Y/AMWNrZaYhII/s50-c-k-no/photo.jpg",
            "userId": "108176296598731302480"
          }
        },
        "trusted": true,
        "_uuid": "d81ed726775b0e0e5db50ae90f83eb33bf321861",
        "collapsed": true
      },
      "cell_type": "code",
      "source": "df = pd.read_csv('../input/test.csv')\ndf.drop(df.columns[0], axis=1, inplace=True)\ndf.head()",
      "execution_count": null,
      "outputs": []
    },
    {
      "metadata": {
        "id": "y_uaRBobS_qC",
        "colab_type": "code",
        "colab": {
          "autoexec": {
            "startup": false,
            "wait_interval": 0
          }
        },
        "trusted": true,
        "collapsed": true,
        "_uuid": "dd3fcf11d2a9e8b006fed8d34ccc58e1dbc3ba4e"
      },
      "cell_type": "code",
      "source": "x_test, y_test = df.loc[:, 'in0':'in62'], df.loc[:, 'out63':'out69']",
      "execution_count": null,
      "outputs": []
    },
    {
      "metadata": {
        "id": "UWDD8fWSTRzk",
        "colab_type": "code",
        "colab": {
          "autoexec": {
            "startup": false,
            "wait_interval": 0
          }
        },
        "trusted": true,
        "collapsed": true,
        "_uuid": "c1c98f737c487b7b0e7ee502391bfaad14092b87"
      },
      "cell_type": "code",
      "source": "x_train = np.vstack((x_train, x_test))\ny_train = np.vstack((y_train, y_test))",
      "execution_count": null,
      "outputs": []
    },
    {
      "metadata": {
        "trusted": true,
        "collapsed": true,
        "_uuid": "3da5a7c1e787bf4d05a5df4a69390c81ef1bf19e"
      },
      "cell_type": "code",
      "source": "# x_train = normalize(x_train)",
      "execution_count": null,
      "outputs": []
    },
    {
      "metadata": {
        "id": "Hbemc2HdTge-",
        "colab_type": "code",
        "colab": {
          "autoexec": {
            "startup": false,
            "wait_interval": 0
          },
          "base_uri": "https://localhost:8080/",
          "height": 35
        },
        "outputId": "9bd1a492-fd02-4fd2-b52c-08882c217852",
        "executionInfo": {
          "status": "ok",
          "timestamp": 1526911128785,
          "user_tz": 240,
          "elapsed": 866,
          "user": {
            "displayName": "Rodrigo Moraes",
            "photoUrl": "//lh6.googleusercontent.com/-BxZy5cw-fLQ/AAAAAAAAAAI/AAAAAAAAn3Y/AMWNrZaYhII/s50-c-k-no/photo.jpg",
            "userId": "108176296598731302480"
          }
        },
        "trusted": true,
        "_uuid": "ad2a35c01a31d333d89f5126c2ca0971767e8fd2",
        "collapsed": true
      },
      "cell_type": "code",
      "source": "x_train.shape, y_train.shape",
      "execution_count": null,
      "outputs": []
    },
    {
      "metadata": {
        "id": "yyHrYFtrWYyL",
        "colab_type": "code",
        "colab": {
          "autoexec": {
            "startup": false,
            "wait_interval": 0
          }
        },
        "trusted": true,
        "collapsed": true,
        "_uuid": "54d0a7c59b866e52003e24372a7f79f15df169c7"
      },
      "cell_type": "code",
      "source": "y_train = [ np.argmax(temp) for temp in y_train ]",
      "execution_count": null,
      "outputs": []
    },
    {
      "metadata": {
        "id": "mK9q-wYueach",
        "colab_type": "code",
        "colab": {
          "autoexec": {
            "startup": false,
            "wait_interval": 0
          }
        },
        "trusted": true,
        "_uuid": "8ab095507cb08c717cb57bbbd0742f6af1fa448d",
        "collapsed": true
      },
      "cell_type": "code",
      "source": "estimator = XGBClassifier()\nparam_grid = {\n    'nthread': [16],\n    'n_jobs' : [16],\n    'n_estimators': [100],    \n    'max_depth': [64],\n    'learning_rate' : [1, 0.1, 0.01, 0.001],\n    'objective':['multi:softmax']          \n}\nscoring = 'f1_micro'\ncv = StratifiedKFold(7, random_state=42)",
      "execution_count": null,
      "outputs": []
    },
    {
      "metadata": {
        "id": "_w4Vh3-NedJQ",
        "colab_type": "code",
        "colab": {
          "autoexec": {
            "startup": false,
            "wait_interval": 0
          },
          "base_uri": "https://localhost:8080/",
          "height": 53
        },
        "outputId": "557ae7a5-4fc3-4155-d507-22ff4156d036",
        "trusted": true,
        "_uuid": "17f9a07168ac8a11b2bc73be57cf82deb9f91da6",
        "collapsed": true
      },
      "cell_type": "code",
      "source": "%%time\ngs = GridSearchCV(estimator, param_grid, scoring=scoring, cv=cv, verbose=3)\ngs.fit(x_train, y_train)",
      "execution_count": null,
      "outputs": []
    },
    {
      "metadata": {
        "id": "4S6YoKE_edwq",
        "colab_type": "code",
        "colab": {
          "autoexec": {
            "startup": false,
            "wait_interval": 0
          },
          "base_uri": "https://localhost:8080/",
          "height": 256
        },
        "outputId": "c4da46e2-87b4-4634-8340-e733cdd4564f",
        "executionInfo": {
          "status": "ok",
          "timestamp": 1525932967092,
          "user_tz": 240,
          "elapsed": 1348,
          "user": {
            "displayName": "Rodrigo Moraes",
            "photoUrl": "//lh6.googleusercontent.com/-BxZy5cw-fLQ/AAAAAAAAAAI/AAAAAAAAn3Y/AMWNrZaYhII/s50-c-k-no/photo.jpg",
            "userId": "108176296598731302480"
          }
        },
        "trusted": true,
        "_uuid": "39b8aa1a5b0b6e22e061ce9cf38ebbd34011288c",
        "collapsed": true
      },
      "cell_type": "code",
      "source": "results = pd.DataFrame(gs.cv_results_).sort_values(by='mean_test_score', ascending=False)\nresults.head()",
      "execution_count": null,
      "outputs": []
    },
    {
      "metadata": {
        "trusted": true,
        "_uuid": "415083e1b491f1bd91a4afe6d9ca9f60f956308b",
        "collapsed": true
      },
      "cell_type": "code",
      "source": "df = pd.read_csv('../input/validation.csv')\ndf.drop(df.columns[0], axis=1, inplace=True)\ndf.head()",
      "execution_count": null,
      "outputs": []
    },
    {
      "metadata": {
        "trusted": true,
        "collapsed": true,
        "_uuid": "9c014f0b2e8f7d12a6563b117cec20928685a178"
      },
      "cell_type": "code",
      "source": "df.columns = [f'f{num}' if num < 63 else f'out{num}' for num in range(70)]",
      "execution_count": null,
      "outputs": []
    },
    {
      "metadata": {
        "trusted": true,
        "_uuid": "9160ef6c4189b7d276b95264ba2e3a69de81a97d",
        "collapsed": true
      },
      "cell_type": "code",
      "source": "df.head()",
      "execution_count": null,
      "outputs": []
    },
    {
      "metadata": {
        "trusted": true,
        "collapsed": true,
        "_uuid": "26f361697c14eb67068f04d94afdb34f38801bd9"
      },
      "cell_type": "code",
      "source": "x_validation, y_validation = df.loc[:, 'f0':'f62'], df.loc[:, 'out63':'out69']",
      "execution_count": null,
      "outputs": []
    },
    {
      "metadata": {
        "id": "IgvRDxQ9efNz",
        "colab_type": "code",
        "colab": {
          "autoexec": {
            "startup": false,
            "wait_interval": 0
          }
        },
        "trusted": true,
        "_uuid": "abee16fd47929379ffc711729e2a763405e18ca9",
        "collapsed": true
      },
      "cell_type": "code",
      "source": "y_pred = gs.best_estimator_.predict(x_validation)",
      "execution_count": null,
      "outputs": []
    },
    {
      "metadata": {
        "trusted": true,
        "_uuid": "644496f6f5ff9776b28174c1c1022262c0400d3e",
        "collapsed": true
      },
      "cell_type": "code",
      "source": "y_pred",
      "execution_count": null,
      "outputs": []
    },
    {
      "metadata": {
        "trusted": true,
        "collapsed": true,
        "_uuid": "c368284951b8a2b3d2822006405c8ee351a98f50"
      },
      "cell_type": "code",
      "source": "# x_validation = normalize(x_validation)",
      "execution_count": null,
      "outputs": []
    },
    {
      "metadata": {
        "trusted": true,
        "_uuid": "2aaa0f2c238e815f7950fa857f1d8856062f8cbb",
        "collapsed": true
      },
      "cell_type": "code",
      "source": "y_validation.shape",
      "execution_count": null,
      "outputs": []
    },
    {
      "metadata": {
        "trusted": true,
        "collapsed": true,
        "_uuid": "da7f93c8747bbadb8c3caa0c79ade10a6b01b6f3"
      },
      "cell_type": "code",
      "source": "from sklearn import preprocessing\nlb = preprocessing.LabelBinarizer()",
      "execution_count": null,
      "outputs": []
    },
    {
      "metadata": {
        "trusted": true,
        "_uuid": "7453dc26019ca95a0cca46701b31cde3fcf32e53",
        "collapsed": true
      },
      "cell_type": "code",
      "source": "y_pred = lb.fit_transform(y_pred)\ny_pred.shape",
      "execution_count": null,
      "outputs": []
    },
    {
      "metadata": {
        "id": "iT6AQJcoeiE-",
        "colab_type": "code",
        "colab": {
          "autoexec": {
            "startup": false,
            "wait_interval": 0
          },
          "base_uri": "https://localhost:8080/",
          "height": 35
        },
        "outputId": "b891241c-04b8-4799-9b2c-e7c2256ba10d",
        "executionInfo": {
          "status": "ok",
          "timestamp": 1525932979830,
          "user_tz": 240,
          "elapsed": 684,
          "user": {
            "displayName": "Rodrigo Moraes",
            "photoUrl": "//lh6.googleusercontent.com/-BxZy5cw-fLQ/AAAAAAAAAAI/AAAAAAAAn3Y/AMWNrZaYhII/s50-c-k-no/photo.jpg",
            "userId": "108176296598731302480"
          }
        },
        "trusted": true,
        "_uuid": "b0db10a9b6a1b68e1cee6f7f7ab9b01457a7abbd",
        "collapsed": true
      },
      "cell_type": "code",
      "source": "score = fbeta_score(y_validation, y_pred, beta=1, average='micro')\nscore",
      "execution_count": null,
      "outputs": []
    },
    {
      "metadata": {
        "id": "PVWvHrJbRF0i",
        "colab_type": "code",
        "colab": {
          "autoexec": {
            "startup": false,
            "wait_interval": 0
          }
        },
        "trusted": true,
        "_uuid": "588f2c8c97a751604121813ed036975908626e93",
        "collapsed": true
      },
      "cell_type": "code",
      "source": "joblib.dump(gs.best_estimator_, \"xgboost{}.dat\".format(score))",
      "execution_count": null,
      "outputs": []
    },
    {
      "metadata": {
        "trusted": true,
        "_uuid": "952c75fbfd23e1b464c850b80f798ab27014425a",
        "collapsed": true
      },
      "cell_type": "code",
      "source": "y_true = np.array([np.argmax(value) for value in y_validation.as_matrix()])\ny_true.shape",
      "execution_count": null,
      "outputs": []
    },
    {
      "metadata": {
        "trusted": true,
        "_uuid": "1ccf8d29774de0472eef986d5d3359a30165cb7a",
        "collapsed": true
      },
      "cell_type": "code",
      "source": "y_pred = np.array([np.argmax(value) for value in np.array(y_pred)])\ny_pred.shape",
      "execution_count": null,
      "outputs": []
    },
    {
      "metadata": {
        "trusted": true,
        "_uuid": "cc3825806e4b54e15eac3cfdf603c15d5eb226c7",
        "collapsed": true
      },
      "cell_type": "code",
      "source": "y_true, y_pred",
      "execution_count": null,
      "outputs": []
    },
    {
      "metadata": {
        "id": "v99Az16_z72O",
        "colab_type": "code",
        "colab": {
          "autoexec": {
            "startup": false,
            "wait_interval": 0
          },
          "base_uri": "https://localhost:8080/",
          "height": 1234
        },
        "outputId": "15636afc-dc46-49e6-8f40-191e2de1a53f",
        "executionInfo": {
          "status": "ok",
          "timestamp": 1525935024838,
          "user_tz": 240,
          "elapsed": 2130,
          "user": {
            "displayName": "Rodrigo Moraes",
            "photoUrl": "//lh6.googleusercontent.com/-BxZy5cw-fLQ/AAAAAAAAAAI/AAAAAAAAn3Y/AMWNrZaYhII/s50-c-k-no/photo.jpg",
            "userId": "108176296598731302480"
          }
        },
        "trusted": true,
        "_uuid": "3dc0b9845e24b17402f9d0de2f05e0814cceb85e",
        "collapsed": true
      },
      "cell_type": "code",
      "source": "# Plot a confusion matrix\nemotions_text = ['angry', 'disgust', 'fear', 'happy', 'sad', 'surprise', 'neutral']\n\ncm = confusion_matrix(y_true, y_pred)\ncm_normalised = cm.astype('float') / cm.sum(axis=1)[:, np.newaxis]\nsns.set(font_scale=4.5) \nfig, ax = plt.subplots(figsize=(30,20))\nax = sns.heatmap(cm_normalised, annot=True, linewidths=2.5, square=True, linecolor=\"Green\", \n                    cmap=\"Greens\", yticklabels=emotions_text, xticklabels=emotions_text, vmin=0, vmax=np.max(cm_normalised), \n                    fmt=\".2f\", annot_kws={\"size\": 50})\nax.set(xlabel='Predicted label', ylabel='True label')",
      "execution_count": null,
      "outputs": []
    }
  ],
  "metadata": {
    "colab": {
      "name": "train_xgboost.ipynb",
      "version": "0.3.2",
      "views": {},
      "default_view": {},
      "provenance": [],
      "collapsed_sections": []
    },
    "kernelspec": {
      "display_name": "Python 3",
      "language": "python",
      "name": "python3"
    },
    "accelerator": "GPU",
    "language_info": {
      "name": "python",
      "version": "3.6.4",
      "mimetype": "text/x-python",
      "codemirror_mode": {
        "name": "ipython",
        "version": 3
      },
      "pygments_lexer": "ipython3",
      "nbconvert_exporter": "python",
      "file_extension": ".py"
    }
  },
  "nbformat": 4,
  "nbformat_minor": 1
}