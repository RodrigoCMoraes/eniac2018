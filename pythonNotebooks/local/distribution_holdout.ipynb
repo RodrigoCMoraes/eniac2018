{
 "cells": [
  {
   "cell_type": "code",
   "execution_count": 15,
   "metadata": {},
   "outputs": [],
   "source": [
    "import pandas as pd\n",
    "import numpy as np"
   ]
  },
  {
   "cell_type": "code",
   "execution_count": 16,
   "metadata": {},
   "outputs": [
    {
     "data": {
      "text/html": [
       "<div>\n",
       "<style scoped>\n",
       "    .dataframe tbody tr th:only-of-type {\n",
       "        vertical-align: middle;\n",
       "    }\n",
       "\n",
       "    .dataframe tbody tr th {\n",
       "        vertical-align: top;\n",
       "    }\n",
       "\n",
       "    .dataframe thead th {\n",
       "        text-align: right;\n",
       "    }\n",
       "</style>\n",
       "<table border=\"1\" class=\"dataframe\">\n",
       "  <thead>\n",
       "    <tr style=\"text-align: right;\">\n",
       "      <th></th>\n",
       "      <th>emotion</th>\n",
       "      <th>pixels</th>\n",
       "      <th>Usage</th>\n",
       "    </tr>\n",
       "  </thead>\n",
       "  <tbody>\n",
       "    <tr>\n",
       "      <th>0</th>\n",
       "      <td>0</td>\n",
       "      <td>70 80 82 72 58 58 60 63 54 58 60 48 89 115 121...</td>\n",
       "      <td>Training</td>\n",
       "    </tr>\n",
       "    <tr>\n",
       "      <th>1</th>\n",
       "      <td>0</td>\n",
       "      <td>151 150 147 155 148 133 111 140 170 174 182 15...</td>\n",
       "      <td>Training</td>\n",
       "    </tr>\n",
       "    <tr>\n",
       "      <th>2</th>\n",
       "      <td>2</td>\n",
       "      <td>231 212 156 164 174 138 161 173 182 200 106 38...</td>\n",
       "      <td>Training</td>\n",
       "    </tr>\n",
       "    <tr>\n",
       "      <th>3</th>\n",
       "      <td>4</td>\n",
       "      <td>24 32 36 30 32 23 19 20 30 41 21 22 32 34 21 1...</td>\n",
       "      <td>Training</td>\n",
       "    </tr>\n",
       "    <tr>\n",
       "      <th>4</th>\n",
       "      <td>6</td>\n",
       "      <td>4 0 0 0 0 0 0 0 0 0 0 0 3 15 23 28 48 50 58 84...</td>\n",
       "      <td>Training</td>\n",
       "    </tr>\n",
       "  </tbody>\n",
       "</table>\n",
       "</div>"
      ],
      "text/plain": [
       "   emotion                                             pixels     Usage\n",
       "0        0  70 80 82 72 58 58 60 63 54 58 60 48 89 115 121...  Training\n",
       "1        0  151 150 147 155 148 133 111 140 170 174 182 15...  Training\n",
       "2        2  231 212 156 164 174 138 161 173 182 200 106 38...  Training\n",
       "3        4  24 32 36 30 32 23 19 20 30 41 21 22 32 34 21 1...  Training\n",
       "4        6  4 0 0 0 0 0 0 0 0 0 0 0 3 15 23 28 48 50 58 84...  Training"
      ]
     },
     "execution_count": 16,
     "metadata": {},
     "output_type": "execute_result"
    }
   ],
   "source": [
    "df = pd.read_csv('../../datasets/fer2013.csv')\n",
    "df.head()"
   ]
  },
  {
   "cell_type": "code",
   "execution_count": 17,
   "metadata": {},
   "outputs": [
    {
     "data": {
      "text/html": [
       "<div>\n",
       "<style scoped>\n",
       "    .dataframe tbody tr th:only-of-type {\n",
       "        vertical-align: middle;\n",
       "    }\n",
       "\n",
       "    .dataframe tbody tr th {\n",
       "        vertical-align: top;\n",
       "    }\n",
       "\n",
       "    .dataframe thead th {\n",
       "        text-align: right;\n",
       "    }\n",
       "</style>\n",
       "<table border=\"1\" class=\"dataframe\">\n",
       "  <thead>\n",
       "    <tr style=\"text-align: right;\">\n",
       "      <th></th>\n",
       "      <th>emotion</th>\n",
       "      <th>pixels</th>\n",
       "    </tr>\n",
       "    <tr>\n",
       "      <th>Usage</th>\n",
       "      <th></th>\n",
       "      <th></th>\n",
       "    </tr>\n",
       "  </thead>\n",
       "  <tbody>\n",
       "    <tr>\n",
       "      <th>PrivateTest</th>\n",
       "      <td>3589</td>\n",
       "      <td>3589</td>\n",
       "    </tr>\n",
       "    <tr>\n",
       "      <th>PublicTest</th>\n",
       "      <td>3589</td>\n",
       "      <td>3589</td>\n",
       "    </tr>\n",
       "    <tr>\n",
       "      <th>Training</th>\n",
       "      <td>28709</td>\n",
       "      <td>28709</td>\n",
       "    </tr>\n",
       "  </tbody>\n",
       "</table>\n",
       "</div>"
      ],
      "text/plain": [
       "             emotion  pixels\n",
       "Usage                       \n",
       "PrivateTest     3589    3589\n",
       "PublicTest      3589    3589\n",
       "Training       28709   28709"
      ]
     },
     "execution_count": 17,
     "metadata": {},
     "output_type": "execute_result"
    }
   ],
   "source": [
    "df_usage = df.groupby('Usage')\n",
    "df_usage.count()"
   ]
  },
  {
   "cell_type": "code",
   "execution_count": 18,
   "metadata": {},
   "outputs": [
    {
     "data": {
      "text/html": [
       "<div>\n",
       "<style scoped>\n",
       "    .dataframe tbody tr th:only-of-type {\n",
       "        vertical-align: middle;\n",
       "    }\n",
       "\n",
       "    .dataframe tbody tr th {\n",
       "        vertical-align: top;\n",
       "    }\n",
       "\n",
       "    .dataframe thead th {\n",
       "        text-align: right;\n",
       "    }\n",
       "</style>\n",
       "<table border=\"1\" class=\"dataframe\">\n",
       "  <thead>\n",
       "    <tr style=\"text-align: right;\">\n",
       "      <th></th>\n",
       "      <th>pixels</th>\n",
       "      <th>Usage</th>\n",
       "    </tr>\n",
       "    <tr>\n",
       "      <th>emotion</th>\n",
       "      <th></th>\n",
       "      <th></th>\n",
       "    </tr>\n",
       "  </thead>\n",
       "  <tbody>\n",
       "    <tr>\n",
       "      <th>0</th>\n",
       "      <td>3995</td>\n",
       "      <td>3995</td>\n",
       "    </tr>\n",
       "    <tr>\n",
       "      <th>1</th>\n",
       "      <td>436</td>\n",
       "      <td>436</td>\n",
       "    </tr>\n",
       "    <tr>\n",
       "      <th>2</th>\n",
       "      <td>4097</td>\n",
       "      <td>4097</td>\n",
       "    </tr>\n",
       "    <tr>\n",
       "      <th>3</th>\n",
       "      <td>7215</td>\n",
       "      <td>7215</td>\n",
       "    </tr>\n",
       "    <tr>\n",
       "      <th>4</th>\n",
       "      <td>4830</td>\n",
       "      <td>4830</td>\n",
       "    </tr>\n",
       "    <tr>\n",
       "      <th>5</th>\n",
       "      <td>3171</td>\n",
       "      <td>3171</td>\n",
       "    </tr>\n",
       "    <tr>\n",
       "      <th>6</th>\n",
       "      <td>4965</td>\n",
       "      <td>4965</td>\n",
       "    </tr>\n",
       "  </tbody>\n",
       "</table>\n",
       "</div>"
      ],
      "text/plain": [
       "         pixels  Usage\n",
       "emotion               \n",
       "0          3995   3995\n",
       "1           436    436\n",
       "2          4097   4097\n",
       "3          7215   7215\n",
       "4          4830   4830\n",
       "5          3171   3171\n",
       "6          4965   4965"
      ]
     },
     "execution_count": 18,
     "metadata": {},
     "output_type": "execute_result"
    }
   ],
   "source": [
    "df_training_emotion = df_usage.get_group('Training').groupby('emotion') \n",
    "df_training_emotion.count()"
   ]
  },
  {
   "cell_type": "code",
   "execution_count": 19,
   "metadata": {},
   "outputs": [],
   "source": [
    "expression = {\n",
    "    0 : 'Raiva',\n",
    "    1 : 'Nojo',\n",
    "    2 : 'Medo',\n",
    "    3 : 'Felicidade',\n",
    "    4 : 'Tristeza',\n",
    "    5 : 'Surpresa',\n",
    "    6 : 'Neutro'\n",
    "}"
   ]
  },
  {
   "cell_type": "code",
   "execution_count": 20,
   "metadata": {},
   "outputs": [
    {
     "data": {
      "text/plain": [
       "{'Felicidade': 7215,\n",
       " 'Medo': 4097,\n",
       " 'Neutro': 4965,\n",
       " 'Nojo': 436,\n",
       " 'Raiva': 3995,\n",
       " 'Surpresa': 3171,\n",
       " 'Tristeza': 4830}"
      ]
     },
     "execution_count": 20,
     "metadata": {},
     "output_type": "execute_result"
    }
   ],
   "source": [
    "expression_size = {}\n",
    "for index, group in df_training_emotion.groups.items():\n",
    "    expression_size[expression[index]] = group.size\n",
    "expression_size"
   ]
  },
  {
   "cell_type": "code",
   "execution_count": 21,
   "metadata": {},
   "outputs": [],
   "source": [
    "import seaborn as sns\n",
    "sns.set_style(\"whitegrid\")"
   ]
  },
  {
   "cell_type": "code",
   "execution_count": 22,
   "metadata": {},
   "outputs": [
    {
     "data": {
      "text/plain": [
       "(['Raiva', 'Nojo', 'Medo', 'Felicidade', 'Tristeza', 'Surpresa', 'Neutro'],\n",
       " [3995, 436, 4097, 7215, 4830, 3171, 4965])"
      ]
     },
     "execution_count": 22,
     "metadata": {},
     "output_type": "execute_result"
    }
   ],
   "source": [
    "x, y = [], []\n",
    "for label, size in expression_size.items():\n",
    "    x.append(label)\n",
    "    y.append(size)\n",
    "x, y"
   ]
  },
  {
   "cell_type": "code",
   "execution_count": 23,
   "metadata": {},
   "outputs": [
    {
     "data": {
      "text/plain": [
       "{'Felicidade': 0.2513149186666202,\n",
       " 'Medo': 0.14270786164617366,\n",
       " 'Neutro': 0.17294228290779895,\n",
       " 'Nojo': 0.01518687519593159,\n",
       " 'Raiva': 0.1391549688251071,\n",
       " 'Surpresa': 0.11045316799609878,\n",
       " 'Tristeza': 0.16823992476226968}"
      ]
     },
     "execution_count": 23,
     "metadata": {},
     "output_type": "execute_result"
    }
   ],
   "source": [
    "total = np.sum(y)\n",
    "\n",
    "percentage = {}\n",
    "for expression, size in expression_size.items():\n",
    "    percentage[expression] = size / total\n",
    "percentage"
   ]
  },
  {
   "cell_type": "code",
   "execution_count": 24,
   "metadata": {},
   "outputs": [],
   "source": [
    "pal = sns.color_palette(\"Greens_d\", len(x))\n",
    "rank = np.array(y).argsort().argsort()\n",
    "pal = np.array(pal[::-1])[rank]"
   ]
  },
  {
   "cell_type": "code",
   "execution_count": 25,
   "metadata": {},
   "outputs": [
    {
     "data": {
      "text/plain": [
       "[Text(0,0.5,'Samples'), Text(0.5,0,'Expression')]"
      ]
     },
     "execution_count": 25,
     "metadata": {},
     "output_type": "execute_result"
    },
    {
     "data": {
      "image/png": "[encoded data removed]",
      "text/plain": [
       "<matplotlib.figure.Figure at 0x7f5a557d7860>"
      ]
     },
     "metadata": {},
     "output_type": "display_data"
    }
   ],
   "source": [
    "ax = sns.barplot(x, y, palette=pal)\n",
    "ax.set(ylim=(0, 10000))\n",
    "for p, percent in zip(ax.patches, percentage.values()):\n",
    "    ax.text(p.get_x() + p.get_width() / 2, p.get_height() + 100, f'{percent*100:.1f}%', ha='center')\n",
    "ax.set(xlabel='Expression', ylabel='Samples')"
   ]
  },
  {
   "cell_type": "code",
   "execution_count": 26,
   "metadata": {},
   "outputs": [],
   "source": [
    "figure = ax.get_figure()\n",
    "figure.savefig('../../overleaf/images/expression_distribution_training.png', dpi=400)"
   ]
  },
  {
   "cell_type": "code",
   "execution_count": 27,
   "metadata": {},
   "outputs": [
    {
     "data": {
      "image/png": "[encoded data removed]",
      "text/plain": [
       "<matplotlib.figure.Figure at 0x7f5a557d7f60>"
      ]
     },
     "metadata": {},
     "output_type": "display_data"
    }
   ],
   "source": [
    "expression = {\n",
    "    0 : 'Raiva',\n",
    "    1 : 'Nojo',\n",
    "    2 : 'Medo',\n",
    "    3 : 'Felicidade',\n",
    "    4 : 'Tristeza',\n",
    "    5 : 'Surpresa',\n",
    "    6 : 'Neutro'\n",
    "}\n",
    "\n",
    "df_validation_emotion = df_usage.get_group('PublicTest').groupby('emotion') \n",
    "\n",
    "expression_size = {}\n",
    "for index, group in df_validation_emotion.groups.items():\n",
    "    expression_size[expression[index]] = group.size\n",
    "\n",
    "x, y = [], []\n",
    "for label, size in expression_size.items():\n",
    "    x.append(label)\n",
    "    y.append(size)\n",
    "\n",
    "total = np.sum(y)\n",
    "percentage = {}\n",
    "for expression, size in expression_size.items():\n",
    "    percentage[expression] = size / total\n",
    "\n",
    "pal = sns.color_palette(\"Greens_d\", len(x))\n",
    "rank = np.array(y).argsort().argsort()\n",
    "pal = np.array(pal[::-1])[rank]\n",
    "\n",
    "ax = sns.barplot(x, y, palette=pal)\n",
    "ax.set(ylim=(0, 1200))\n",
    "for p, percent in zip(ax.patches, percentage.values()):\n",
    "    ax.text(p.get_x() + p.get_width() / 2, p.get_height() + 50, f'{percent*100:.1f}%', ha='center')\n",
    "ax.set(xlabel='Expression', ylabel='Samples')\n",
    "\n",
    "figure = ax.get_figure()\n",
    "figure.savefig('../../overleaf/images/expression_distribution_validation.png', dpi=400)"
   ]
  },
  {
   "cell_type": "code",
   "execution_count": 28,
   "metadata": {},
   "outputs": [
    {
     "data": {
      "image/png": "[encoded data removed]",
      "text/plain": [
       "<matplotlib.figure.Figure at 0x7f5a5488bd68>"
      ]
     },
     "metadata": {},
     "output_type": "display_data"
    }
   ],
   "source": [
    "expression = {\n",
    "    0 : 'Raiva',\n",
    "    1 : 'Nojo',\n",
    "    2 : 'Medo',\n",
    "    3 : 'Felicidade',\n",
    "    4 : 'Tristeza',\n",
    "    5 : 'Surpresa',\n",
    "    6 : 'Neutro'\n",
    "}\n",
    "\n",
    "df_test_emotion = df_usage.get_group('PrivateTest').groupby('emotion') \n",
    "\n",
    "expression_size = {}\n",
    "for index, group in df_test_emotion.groups.items():\n",
    "    expression_size[expression[index]] = group.size\n",
    "\n",
    "x, y = [], []\n",
    "for label, size in expression_size.items():\n",
    "    x.append(label)\n",
    "    y.append(size)\n",
    "\n",
    "total = np.sum(y)\n",
    "percentage = {}\n",
    "for expression, size in expression_size.items():\n",
    "    percentage[expression] = size / total\n",
    "\n",
    "pal = sns.color_palette(\"Greens_d\", len(x))\n",
    "rank = np.array(y).argsort().argsort()\n",
    "pal = np.array(pal[::-1])[rank]\n",
    "\n",
    "ax = sns.barplot(x, y, palette=pal)\n",
    "ax.set(ylim=(0, 1200))\n",
    "for p, percent in zip(ax.patches, percentage.values()):\n",
    "    ax.text(p.get_x() + p.get_width() / 2, p.get_height() + 50, f'{percent*100:.1f}%', ha='center')\n",
    "ax.set(xlabel='Expression', ylabel='Samples')\n",
    "\n",
    "figure = ax.get_figure()\n",
    "figure.savefig('../../overleaf/images/expression_distribution_test.png', dpi=400)"
   ]
  }
 ],
 "metadata": {
  "kernelspec": {
   "display_name": "Python 3",
   "language": "python",
   "name": "python3"
  },
  "language_info": {
   "codemirror_mode": {
    "name": "ipython",
    "version": 3
   },
   "file_extension": ".py",
   "mimetype": "text/x-python",
   "name": "python",
   "nbconvert_exporter": "python",
   "pygments_lexer": "ipython3",
   "version": "3.6.4"
  },
  "toc": {
   "base_numbering": 1,
   "nav_menu": {},
   "number_sections": true,
   "sideBar": true,
   "skip_h1_title": false,
   "title_cell": "Table of Contents",
   "title_sidebar": "Contents",
   "toc_cell": false,
   "toc_position": {},
   "toc_section_display": true,
   "toc_window_display": false
  }
 },
 "nbformat": 4,
 "nbformat_minor": 2
}
